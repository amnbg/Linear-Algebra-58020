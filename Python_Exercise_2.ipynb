{
  "nbformat": 4,
  "nbformat_minor": 0,
  "metadata": {
    "colab": {
      "name": "Python Exercise 2",
      "provenance": [],
      "collapsed_sections": [],
      "authorship_tag": "ABX9TyNW+aJcF9kfwrdoGMxUNzsY",
      "include_colab_link": true
    },
    "kernelspec": {
      "name": "python3",
      "display_name": "Python 3"
    },
    "language_info": {
      "name": "python"
    }
  },
  "cells": [
    {
      "cell_type": "markdown",
      "metadata": {
        "id": "view-in-github",
        "colab_type": "text"
      },
      "source": [
        "<a href=\"https://colab.research.google.com/github/amnbg/Linear-Algebra-58020/blob/main/Python_Exercise_2.ipynb\" target=\"_parent\"><img src=\"https://colab.research.google.com/assets/colab-badge.svg\" alt=\"Open In Colab\"/></a>"
      ]
    },
    {
      "cell_type": "markdown",
      "metadata": {
        "id": "zyD9KrS65TZH"
      },
      "source": [
        "#Vector Spaces and its Operations"
      ]
    },
    {
      "cell_type": "code",
      "metadata": {
        "colab": {
          "base_uri": "https://localhost:8080/"
        },
        "id": "aNpwfDuz4vJR",
        "outputId": "0c9181d3-290e-4056-f638-2f03407ba1ff"
      },
      "source": [
        "import numpy as np\n",
        "A = np.array([4,3])\n",
        "B = np.array([2,-5])\n",
        "\n",
        "print('Vector A is ', A)\n",
        "print('Vector B is ', B)"
      ],
      "execution_count": null,
      "outputs": [
        {
          "output_type": "stream",
          "name": "stdout",
          "text": [
            "Vector A is  [4 3]\n",
            "Vector B is  [ 2 -5]\n"
          ]
        }
      ]
    },
    {
      "cell_type": "code",
      "metadata": {
        "colab": {
          "base_uri": "https://localhost:8080/"
        },
        "id": "_wyJtalM7Jj_",
        "outputId": "c1ea6877-1765-419f-fdd5-233ae985b23d"
      },
      "source": [
        "ball1 = np.array([1,2,3])\n",
        "ball2 = np.array([0,1,-1])\n",
        "pool = np.array([ball1,ball2])\n",
        "print(pool.shape)\n",
        "print(pool.size)\n",
        "pool.ndim"
      ],
      "execution_count": null,
      "outputs": [
        {
          "output_type": "stream",
          "name": "stdout",
          "text": [
            "(2, 3)\n",
            "6\n"
          ]
        },
        {
          "output_type": "execute_result",
          "data": {
            "text/plain": [
              "2"
            ]
          },
          "metadata": {},
          "execution_count": 21
        }
      ]
    },
    {
      "cell_type": "code",
      "metadata": {
        "colab": {
          "base_uri": "https://localhost:8080/"
        },
        "id": "5aHLh5m4-l_r",
        "outputId": "f128ceb6-3946-4a6f-dfc7-033ee894e464"
      },
      "source": [
        "R = A+B\n",
        "print(R)"
      ],
      "execution_count": null,
      "outputs": [
        {
          "output_type": "stream",
          "name": "stdout",
          "text": [
            "[ 6 -2]\n"
          ]
        }
      ]
    },
    {
      "cell_type": "markdown",
      "metadata": {
        "id": "tfU2GU8JDOoG"
      },
      "source": [
        "##Vector Addition"
      ]
    },
    {
      "cell_type": "code",
      "metadata": {
        "colab": {
          "base_uri": "https://localhost:8080/"
        },
        "id": "gGw_zPcq-1gq",
        "outputId": "e8eb473a-14c9-4861-d1c4-57d354c3f8e5"
      },
      "source": [
        "R = np.add(A,B)\n",
        "R"
      ],
      "execution_count": null,
      "outputs": [
        {
          "output_type": "execute_result",
          "data": {
            "text/plain": [
              "array([ 6, -2])"
            ]
          },
          "metadata": {},
          "execution_count": 23
        }
      ]
    },
    {
      "cell_type": "markdown",
      "metadata": {
        "id": "_LeIOJ5eDRA-"
      },
      "source": [
        "#Vector Substraction"
      ]
    },
    {
      "cell_type": "code",
      "metadata": {
        "colab": {
          "base_uri": "https://localhost:8080/"
        },
        "id": "P9NnIdGT_TXL",
        "outputId": "00b22b24-3599-4155-d2d9-aa2b2a228a71"
      },
      "source": [
        "R = np.subtract(A,B)\n",
        "R"
      ],
      "execution_count": null,
      "outputs": [
        {
          "output_type": "execute_result",
          "data": {
            "text/plain": [
              "array([2, 8])"
            ]
          },
          "metadata": {},
          "execution_count": 24
        }
      ]
    },
    {
      "cell_type": "markdown",
      "metadata": {
        "id": "UEFbgBpHDUM2"
      },
      "source": [
        "##Vector Scaling"
      ]
    },
    {
      "cell_type": "code",
      "metadata": {
        "id": "ff5MXPlh_gv6",
        "colab": {
          "base_uri": "https://localhost:8080/"
        },
        "outputId": "ee9c4b20-0f93-4ae0-b109-3b7eda5e7adc"
      },
      "source": [
        "A = np.array([1,5,8,9])\n",
        "S = 5*A \n",
        "print(S)"
      ],
      "execution_count": null,
      "outputs": [
        {
          "output_type": "stream",
          "name": "stdout",
          "text": [
            "[ 5 25 40 45]\n"
          ]
        }
      ]
    },
    {
      "cell_type": "code",
      "metadata": {
        "colab": {
          "base_uri": "https://localhost:8080/"
        },
        "id": "QN7YKDVxCQJY",
        "outputId": "0bcb07b3-385d-4536-ef05-ac8b28c6c57d"
      },
      "source": [
        "S = np.multiply(5,A)\n",
        "print(S)"
      ],
      "execution_count": null,
      "outputs": [
        {
          "output_type": "stream",
          "name": "stdout",
          "text": [
            "[ 5 25 40 45]\n"
          ]
        }
      ]
    },
    {
      "cell_type": "markdown",
      "metadata": {
        "id": "pAIcxBPDC-z-"
      },
      "source": [
        "#Vector Cross Product"
      ]
    },
    {
      "cell_type": "code",
      "metadata": {
        "id": "k9jtoEtlCWem",
        "colab": {
          "base_uri": "https://localhost:8080/"
        },
        "outputId": "9c10330a-b3a2-4a6a-974d-72aa2a2f16a2"
      },
      "source": [
        "#Initialize arrays\n",
        "A = np.array([2,7])\n",
        "B = np.array ([1,7])\n",
        "#Compute for the cross product\n",
        "\n",
        "output = np.cross(A,B)\n",
        "print(output)"
      ],
      "execution_count": null,
      "outputs": [
        {
          "output_type": "stream",
          "name": "stdout",
          "text": [
            "7\n"
          ]
        }
      ]
    },
    {
      "cell_type": "code",
      "metadata": {
        "colab": {
          "base_uri": "https://localhost:8080/"
        },
        "id": "wkfl_vN4D7L4",
        "outputId": "6243fd89-4b45-4cd8-f2e4-9195fb46db47"
      },
      "source": [
        "output = np.dot(A,B) #Compute for dot product of A and B\n",
        "print(output)"
      ],
      "execution_count": null,
      "outputs": [
        {
          "output_type": "stream",
          "name": "stdout",
          "text": [
            "51\n"
          ]
        }
      ]
    }
  ]
}