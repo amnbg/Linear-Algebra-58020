{
  "nbformat": 4,
  "nbformat_minor": 0,
  "metadata": {
    "colab": {
      "name": "Midterm Exam.ipynb",
      "provenance": [],
      "collapsed_sections": [],
      "authorship_tag": "ABX9TyNEQ9d83x1aVb5eOFJo6vao",
      "include_colab_link": true
    },
    "kernelspec": {
      "name": "python3",
      "display_name": "Python 3"
    },
    "language_info": {
      "name": "python"
    }
  },
  "cells": [
    {
      "cell_type": "markdown",
      "metadata": {
        "id": "view-in-github",
        "colab_type": "text"
      },
      "source": [
        "<a href=\"https://colab.research.google.com/github/amnbg/Linear-Algebra-58020/blob/main/Midterm_Exam.ipynb\" target=\"_parent\"><img src=\"https://colab.research.google.com/assets/colab-badge.svg\" alt=\"Open In Colab\"/></a>"
      ]
    },
    {
      "cell_type": "markdown",
      "metadata": {
        "id": "x25P3-Yu3SD5"
      },
      "source": [
        "Midterm Exam"
      ]
    },
    {
      "cell_type": "markdown",
      "metadata": {
        "id": "yPqbqZ4Z4K7_"
      },
      "source": [
        "Question 1. Create a Python code that displays a square matrix whose length is 5"
      ]
    },
    {
      "cell_type": "code",
      "metadata": {
        "colab": {
          "base_uri": "https://localhost:8080/"
        },
        "id": "NK2mmdPG297A",
        "outputId": "27dabad7-c484-40ee-e831-a887b92f048c"
      },
      "source": [
        "import numpy as np\n",
        "np.arange(1, 26).reshape(5,5)"
      ],
      "execution_count": 32,
      "outputs": [
        {
          "output_type": "execute_result",
          "data": {
            "text/plain": [
              "array([[ 1,  2,  3,  4,  5],\n",
              "       [ 6,  7,  8,  9, 10],\n",
              "       [11, 12, 13, 14, 15],\n",
              "       [16, 17, 18, 19, 20],\n",
              "       [21, 22, 23, 24, 25]])"
            ]
          },
          "metadata": {},
          "execution_count": 32
        }
      ]
    },
    {
      "cell_type": "markdown",
      "metadata": {
        "id": "jHaAhlCH4MWg"
      },
      "source": [
        "Question 2. Create a Python code that displays a square matrix whose elements below the principal diagonal are zero"
      ]
    },
    {
      "cell_type": "code",
      "metadata": {
        "colab": {
          "base_uri": "https://localhost:8080/"
        },
        "id": "QMhbFnfS4PMR",
        "outputId": "c42294c6-d6b4-4712-8a49-ac72d9de9789"
      },
      "source": [
        "np.triu([[1,2,3],[4,5,6],[7,8,9]])"
      ],
      "execution_count": 18,
      "outputs": [
        {
          "output_type": "execute_result",
          "data": {
            "text/plain": [
              "array([[1, 2, 3],\n",
              "       [0, 5, 6],\n",
              "       [0, 0, 9]])"
            ]
          },
          "metadata": {},
          "execution_count": 18
        }
      ]
    },
    {
      "cell_type": "markdown",
      "metadata": {
        "id": "9GpsGJOg4SMB"
      },
      "source": [
        "Question 3. Create a Python code that displays a square matrix which is symmetrical"
      ]
    },
    {
      "cell_type": "code",
      "metadata": {
        "colab": {
          "base_uri": "https://localhost:8080/"
        },
        "id": "xqEviVNW4SxJ",
        "outputId": "0b841e22-5591-4424-9b9a-ca27630fb940"
      },
      "source": [
        "A = np.array([[2,3,4],[5,6,7],[8,9,10]])\n",
        "print(A)\n",
        "print(\"\\n\")\n",
        "print(np.transpose(A))"
      ],
      "execution_count": 26,
      "outputs": [
        {
          "output_type": "stream",
          "name": "stdout",
          "text": [
            "[[ 2  3  4]\n",
            " [ 5  6  7]\n",
            " [ 8  9 10]]\n",
            "\n",
            "\n",
            "[[ 2  5  8]\n",
            " [ 3  6  9]\n",
            " [ 4  7 10]]\n"
          ]
        }
      ]
    },
    {
      "cell_type": "markdown",
      "metadata": {
        "id": "85Lp_aaL4W5p"
      },
      "source": [
        "Question 4. What is the inverse of matrix C? Show your solution by python coding"
      ]
    },
    {
      "cell_type": "code",
      "metadata": {
        "colab": {
          "base_uri": "https://localhost:8080/"
        },
        "id": "E--i2tUB4ZXy",
        "outputId": "cebb555a-5bae-448c-e277-c0a691dc7270"
      },
      "source": [
        "C = np.array([[1,2,3],[2,3,3],[3,4,-2]])\n",
        "\n",
        "C = np.linalg.inv(C)\n",
        "print('Matrix C\\n',C)"
      ],
      "execution_count": 48,
      "outputs": [
        {
          "output_type": "stream",
          "name": "stdout",
          "text": [
            "Matrix C\n",
            " [[-3.6  3.2 -0.6]\n",
            " [ 2.6 -2.2  0.6]\n",
            " [-0.2  0.4 -0.2]]\n"
          ]
        }
      ]
    },
    {
      "cell_type": "markdown",
      "metadata": {
        "id": "Dj6zyrcx4gE_"
      },
      "source": [
        "Question 5. What is the determinant of the given matrix in Question 4? Show your solution by python coding"
      ]
    },
    {
      "cell_type": "code",
      "metadata": {
        "colab": {
          "base_uri": "https://localhost:8080/"
        },
        "id": "W8EKjs7V4gsx",
        "outputId": "3564dc8e-8985-42a0-b4ac-9e4ec6922803"
      },
      "source": [
        "print((np.linalg.det(C)))\n",
        "\n",
        "print(round(np.linalg.det(C)))"
      ],
      "execution_count": 35,
      "outputs": [
        {
          "output_type": "stream",
          "name": "stdout",
          "text": [
            "5.000000000000001\n",
            "5\n"
          ]
        }
      ]
    },
    {
      "cell_type": "markdown",
      "metadata": {
        "id": "ceLi7JJg4hWZ"
      },
      "source": [
        "Question 6. Find the roots of the linear equations by showing its python codes\n",
        "\n",
        "5X1 + 4X2 + X3 = 3.4\n",
        "\n",
        "10X1 + 9X2 + 4X3 = 8.8\n",
        "\n",
        "10X1 + 13X2 + 15X3 = 19.2"
      ]
    },
    {
      "cell_type": "code",
      "metadata": {
        "colab": {
          "base_uri": "https://localhost:8080/"
        },
        "id": "CKOLowrE4k8X",
        "outputId": "eac71a60-dd2e-4e9f-fb6c-e4c8d0980c9d"
      },
      "source": [
        "A = np.array([[5,4,1],[10,9,4],[10,13,15]])\n",
        "print(A)\n",
        "print(\"\\n\")\n",
        "inv_A = np.linalg.inv(A)\n",
        "print(inv_A)\n",
        "print(\"\\n\")\n",
        "B = np.array([[3.4],[8.8],[19.2]])\n",
        "print(B)\n",
        "print(\"\\n\")\n",
        "X = np.dot(inv_A,B)\n",
        "print(X)"
      ],
      "execution_count": 44,
      "outputs": [
        {
          "output_type": "stream",
          "name": "stdout",
          "text": [
            "[[ 5  4  1]\n",
            " [10  9  4]\n",
            " [10 13 15]]\n",
            "\n",
            "\n",
            "[[ 5.53333333 -3.13333333  0.46666667]\n",
            " [-7.33333333  4.33333333 -0.66666667]\n",
            " [ 2.66666667 -1.66666667  0.33333333]]\n",
            "\n",
            "\n",
            "[[ 3.4]\n",
            " [ 8.8]\n",
            " [19.2]]\n",
            "\n",
            "\n",
            "[[0.2]\n",
            " [0.4]\n",
            " [0.8]]\n"
          ]
        }
      ]
    }
  ]
}