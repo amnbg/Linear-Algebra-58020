{
  "nbformat": 4,
  "nbformat_minor": 0,
  "metadata": {
    "colab": {
      "name": "Python Exercise 3.ipynb",
      "provenance": [],
      "collapsed_sections": [],
      "authorship_tag": "ABX9TyMHjK1WMuG2lkO+eghJJjWs",
      "include_colab_link": true
    },
    "kernelspec": {
      "name": "python3",
      "display_name": "Python 3"
    },
    "language_info": {
      "name": "python"
    }
  },
  "cells": [
    {
      "cell_type": "markdown",
      "metadata": {
        "id": "view-in-github",
        "colab_type": "text"
      },
      "source": [
        "<a href=\"https://colab.research.google.com/github/amnbg/Linear-Algebra-58020/blob/main/Python_Exercise_3.ipynb\" target=\"_parent\"><img src=\"https://colab.research.google.com/assets/colab-badge.svg\" alt=\"Open In Colab\"/></a>"
      ]
    },
    {
      "cell_type": "markdown",
      "metadata": {
        "id": "EBY97V4Fl9yX"
      },
      "source": [
        "Linear Transformation"
      ]
    },
    {
      "cell_type": "code",
      "metadata": {
        "colab": {
          "base_uri": "https://localhost:8080/"
        },
        "id": "JY3NlIkhnNpe",
        "outputId": "be2a250f-3e46-47a9-b37d-d8c0da095747"
      },
      "source": [
        "import numpy as np\n",
        "A = np.array([[1,1,1],[1,2,2],[1,2,3]])\n",
        "print(A)\n",
        "inv_A = np.linalg.inv(A)\n",
        "print(inv_A)\n",
        "B = np.array([[5],[6],[8]])\n",
        "print(B)\n",
        "\n",
        "#AA^-1X = B.A^-1\n",
        "X = np.dot(inv_A,B)\n",
        "print(X)"
      ],
      "execution_count": 9,
      "outputs": [
        {
          "output_type": "stream",
          "name": "stdout",
          "text": [
            "[[1 1 1]\n",
            " [1 2 2]\n",
            " [1 2 3]]\n",
            "[[ 2. -1.  0.]\n",
            " [-1.  2. -1.]\n",
            " [ 0. -1.  1.]]\n",
            "[[5]\n",
            " [6]\n",
            " [8]]\n",
            "[[ 4.]\n",
            " [-1.]\n",
            " [ 2.]]\n"
          ]
        }
      ]
    }
  ]
}