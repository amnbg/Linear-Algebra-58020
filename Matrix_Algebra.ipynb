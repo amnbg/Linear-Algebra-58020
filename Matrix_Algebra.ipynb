{
  "nbformat": 4,
  "nbformat_minor": 0,
  "metadata": {
    "colab": {
      "name": "Matrix Algebra",
      "provenance": [],
      "collapsed_sections": [],
      "authorship_tag": "ABX9TyNvRNV1Dd6HvI/vtoF2ob7h",
      "include_colab_link": true
    },
    "kernelspec": {
      "name": "python3",
      "display_name": "Python 3"
    },
    "language_info": {
      "name": "python"
    }
  },
  "cells": [
    {
      "cell_type": "markdown",
      "metadata": {
        "id": "view-in-github",
        "colab_type": "text"
      },
      "source": [
        "<a href=\"https://colab.research.google.com/github/amnbg/Linear-Algebra-58020/blob/main/Matrix_Algebra.ipynb\" target=\"_parent\"><img src=\"https://colab.research.google.com/assets/colab-badge.svg\" alt=\"Open In Colab\"/></a>"
      ]
    },
    {
      "cell_type": "markdown",
      "metadata": {
        "id": "3U4K4i3FQaD8"
      },
      "source": [
        "##Python program to inverse"
      ]
    },
    {
      "cell_type": "code",
      "metadata": {
        "colab": {
          "base_uri": "https://localhost:8080/"
        },
        "id": "mvZfuJfpWW2j",
        "outputId": "c3b0af12-80fa-4196-941c-61737dd639c9"
      },
      "source": [
        "import numpy as np\n",
        "A = np.array([[1,3],[2,7]])\n",
        "print(A)\n",
        "invA = (np.linalg.inv(A))\n",
        "print(invA)"
      ],
      "execution_count": 37,
      "outputs": [
        {
          "output_type": "stream",
          "name": "stdout",
          "text": [
            "[[1 3]\n",
            " [2 7]]\n",
            "[[ 7. -3.]\n",
            " [-2.  1.]]\n"
          ]
        }
      ]
    },
    {
      "cell_type": "code",
      "metadata": {
        "colab": {
          "base_uri": "https://localhost:8080/"
        },
        "id": "os_yjSn2W4uD",
        "outputId": "8e46d3a4-302f-4cc0-d26e-f90ac81e9182"
      },
      "source": [
        "C = np.dot(A,invA)\n",
        "print (C)"
      ],
      "execution_count": 38,
      "outputs": [
        {
          "output_type": "stream",
          "name": "stdout",
          "text": [
            "[[1. 0.]\n",
            " [0. 1.]]\n"
          ]
        }
      ]
    },
    {
      "cell_type": "code",
      "metadata": {
        "colab": {
          "base_uri": "https://localhost:8080/"
        },
        "id": "s5PxmMBmXf6j",
        "outputId": "70441036-29c5-4592-be76-801581fbf985"
      },
      "source": [
        "##Python Programming to Transpose a 3x3 Matrix A =([7,2,3],[5,-3,2],[3,9,6]) \n",
        "A = np.array([[7,2,3],[5,-3,2],[3,9,6]])\n",
        "print(A)\n",
        "B = np.transpose(A)\n",
        "print(B)"
      ],
      "execution_count": 28,
      "outputs": [
        {
          "output_type": "stream",
          "name": "stdout",
          "text": [
            "[[ 7  2  3]\n",
            " [ 5 -3  2]\n",
            " [ 3  9  6]]\n",
            "[[ 7  5  3]\n",
            " [ 2 -3  9]\n",
            " [ 3  2  6]]\n"
          ]
        }
      ]
    },
    {
      "cell_type": "code",
      "metadata": {
        "colab": {
          "base_uri": "https://localhost:8080/"
        },
        "id": "yPOc8JyOaDrb",
        "outputId": "6d37bc49-78bf-4236-8e1e-02f8b4537641"
      },
      "source": [
        "##Python Programming to Inverse a 3x3 Matrix A =([7,2,3],[5,-3,2],[3,9,6]) \n",
        "A = np.array([[7,2,3],[5,-3,2],[3,9,6]])\n",
        "print(A)\n",
        "invA = (np.linalg.inv(A))\n",
        "print(invA)"
      ],
      "execution_count": 40,
      "outputs": [
        {
          "output_type": "stream",
          "name": "stdout",
          "text": [
            "[[ 7  2  3]\n",
            " [ 5 -3  2]\n",
            " [ 3  9  6]]\n",
            "[[ 0.26086957 -0.10869565 -0.0942029 ]\n",
            " [ 0.17391304 -0.23913043 -0.00724638]\n",
            " [-0.39130435  0.41304348  0.22463768]]\n"
          ]
        }
      ]
    }
  ]
}