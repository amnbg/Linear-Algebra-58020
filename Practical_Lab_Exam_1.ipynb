{
  "nbformat": 4,
  "nbformat_minor": 0,
  "metadata": {
    "colab": {
      "name": "Practical Lab Exam 1",
      "provenance": [],
      "collapsed_sections": [],
      "authorship_tag": "ABX9TyORn9fI6a8ygtkFM5O0UQ1r",
      "include_colab_link": true
    },
    "kernelspec": {
      "name": "python3",
      "display_name": "Python 3"
    },
    "language_info": {
      "name": "python"
    }
  },
  "cells": [
    {
      "cell_type": "markdown",
      "metadata": {
        "id": "view-in-github",
        "colab_type": "text"
      },
      "source": [
        "<a href=\"https://colab.research.google.com/github/amnbg/Linear-Algebra-58020/blob/main/Practical_Lab_Exam_1.ipynb\" target=\"_parent\"><img src=\"https://colab.research.google.com/assets/colab-badge.svg\" alt=\"Open In Colab\"/></a>"
      ]
    },
    {
      "cell_type": "markdown",
      "metadata": {
        "id": "HrUiYMmiBRvo"
      },
      "source": [
        "**Problem 1**"
      ]
    },
    {
      "cell_type": "markdown",
      "metadata": {
        "id": "fGEDIUUzFGhC"
      },
      "source": [
        "a. WY"
      ]
    },
    {
      "cell_type": "code",
      "metadata": {
        "colab": {
          "base_uri": "https://localhost:8080/"
        },
        "id": "o4kX-od9ADjI",
        "outputId": "b57e4b11-2e35-41ff-81d9-f0149842456b"
      },
      "source": [
        "import numpy as np\n",
        "np.dot(W,Y)"
      ],
      "execution_count": 31,
      "outputs": [
        {
          "output_type": "execute_result",
          "data": {
            "text/plain": [
              "array([[ 1,  5, -6],\n",
              "       [ 2,  6, -4],\n",
              "       [ 3,  5,  2]])"
            ]
          },
          "metadata": {},
          "execution_count": 31
        }
      ]
    },
    {
      "cell_type": "markdown",
      "metadata": {
        "id": "4LkzLqgmFJqy"
      },
      "source": [
        "b. Z+Z"
      ]
    },
    {
      "cell_type": "code",
      "metadata": {
        "colab": {
          "base_uri": "https://localhost:8080/"
        },
        "id": "qhIxUuV4-mUp",
        "outputId": "53393513-dc28-4a61-e1dd-40ccb6f64c59"
      },
      "source": [
        "Z = np.array([[0,1],[2,3]])\n",
        "Z = np.array([[0,1],[2,3]])\n",
        "print(Z+Z)"
      ],
      "execution_count": 21,
      "outputs": [
        {
          "output_type": "stream",
          "name": "stdout",
          "text": [
            "[[0 2]\n",
            " [4 6]]\n"
          ]
        }
      ]
    },
    {
      "cell_type": "markdown",
      "metadata": {
        "id": "UrBX9pPLFLpK"
      },
      "source": [
        "c. 3X"
      ]
    },
    {
      "cell_type": "code",
      "metadata": {
        "colab": {
          "base_uri": "https://localhost:8080/"
        },
        "id": "qe_fXjUABNk-",
        "outputId": "1bc47ee4-c089-43aa-bddd-323ed7da0a2d"
      },
      "source": [
        "X = np.array([[3,2,1],[-1,2,3],[2,-1,1]])\n",
        "print(3*X)"
      ],
      "execution_count": 25,
      "outputs": [
        {
          "output_type": "stream",
          "name": "stdout",
          "text": [
            "[[ 9  6  3]\n",
            " [-3  6  9]\n",
            " [ 6 -3  3]]\n"
          ]
        }
      ]
    },
    {
      "cell_type": "markdown",
      "metadata": {
        "id": "h2CHzqrpBVwA"
      },
      "source": [
        "**Problem 2**"
      ]
    },
    {
      "cell_type": "markdown",
      "metadata": {
        "id": "f0K3IcraGVwi"
      },
      "source": [
        "a. The product (YW)² is not defined"
      ]
    },
    {
      "cell_type": "code",
      "metadata": {
        "colab": {
          "base_uri": "https://localhost:8080/"
        },
        "id": "CmS4dk5eBWyV",
        "outputId": "7405ec34-c19e-42c1-8c6b-c830d6d2a46b"
      },
      "source": [
        "YW = np.dot(Y,W)\n",
        "print (np.square(YW))\n",
        "#The statement is False since the following equation is defined."
      ],
      "execution_count": 56,
      "outputs": [
        {
          "output_type": "stream",
          "name": "stdout",
          "text": [
            "[[25 49]\n",
            " [16 16]]\n"
          ]
        }
      ]
    },
    {
      "cell_type": "markdown",
      "metadata": {
        "id": "b-xa8uuIHXMC"
      },
      "source": [
        "b. WY – X ="
      ]
    },
    {
      "cell_type": "code",
      "metadata": {
        "colab": {
          "base_uri": "https://localhost:8080/"
        },
        "id": "BsYdc3IhIYDL",
        "outputId": "6e04fc35-17f2-4684-e38e-765fb3fe4385"
      },
      "source": [
        "A = np.dot(W,Y)\n",
        "X = np.array([[3,2,1],[-1,2,3],[2,-1,1]])\n",
        "print(A-X)\n",
        "#As a result, the statement is True."
      ],
      "execution_count": 34,
      "outputs": [
        {
          "output_type": "stream",
          "name": "stdout",
          "text": [
            "[[-2  3 -7]\n",
            " [ 3  4 -7]\n",
            " [ 1  6  1]]\n"
          ]
        }
      ]
    },
    {
      "cell_type": "markdown",
      "metadata": {
        "id": "CvmN3GOEIY5K"
      },
      "source": [
        "c. YW – Z² ="
      ]
    },
    {
      "cell_type": "code",
      "metadata": {
        "colab": {
          "base_uri": "https://localhost:8080/"
        },
        "id": "PuWvHK0ZIZhS",
        "outputId": "1b8a29b4-5ef7-43e8-e5e7-f75ed1be07ba"
      },
      "source": [
        "YW = np.dot(Y,W)\n",
        "print (YW- np.square(Z))\n",
        "#As a result, the statement is False."
      ],
      "execution_count": 44,
      "outputs": [
        {
          "output_type": "stream",
          "name": "stdout",
          "text": [
            "[[ 5 -8]\n",
            " [ 0 -5]]\n"
          ]
        }
      ]
    }
  ]
}