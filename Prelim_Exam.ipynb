{
  "nbformat": 4,
  "nbformat_minor": 0,
  "metadata": {
    "colab": {
      "name": "Prelim Exam",
      "provenance": [],
      "authorship_tag": "ABX9TyP+YLwrAl7Vh5T6AYazGxml",
      "include_colab_link": true
    },
    "kernelspec": {
      "name": "python3",
      "display_name": "Python 3"
    },
    "language_info": {
      "name": "python"
    }
  },
  "cells": [
    {
      "cell_type": "markdown",
      "metadata": {
        "id": "view-in-github",
        "colab_type": "text"
      },
      "source": [
        "<a href=\"https://colab.research.google.com/github/amnbg/Linear-Algebra-58020/blob/main/Prelim_Exam.ipynb\" target=\"_parent\"><img src=\"https://colab.research.google.com/assets/colab-badge.svg\" alt=\"Open In Colab\"/></a>"
      ]
    },
    {
      "cell_type": "markdown",
      "metadata": {
        "id": "DhfAZLuFhobv"
      },
      "source": [
        "Question 1. (20 points) Create a 4 x 4 matrix whose diagonal elements are all one (1's). Name it as matrix \"C\". Show your solutions using Python codes and do not forget to label them on the Text Cell."
      ]
    },
    {
      "cell_type": "code",
      "metadata": {
        "colab": {
          "base_uri": "https://localhost:8080/"
        },
        "id": "WRr-3_YdhZ2v",
        "outputId": "1700ac1c-96e7-45a4-f95a-6b55337a7d83"
      },
      "source": [
        "import numpy as np\n",
        "#Matrix C\n",
        "a = np.matrix([1,1,1,1])\n",
        "c = np.diag(a.A1)\n",
        "print(c)"
      ],
      "execution_count": 37,
      "outputs": [
        {
          "output_type": "stream",
          "name": "stdout",
          "text": [
            "[[1 0 0 0]\n",
            " [0 1 0 0]\n",
            " [0 0 1 0]\n",
            " [0 0 0 1]]\n"
          ]
        }
      ]
    },
    {
      "cell_type": "markdown",
      "metadata": {
        "id": "PUvmBg5ghuWm"
      },
      "source": [
        "Question 2. (20 points) In relation to Question 1, show a solution that doubles all the values of each element. Show your solutions using Python codes and do not forget to label them on the Text Cell."
      ]
    },
    {
      "cell_type": "code",
      "metadata": {
        "id": "e7pUXm1rhy3O",
        "colab": {
          "base_uri": "https://localhost:8080/"
        },
        "outputId": "962e5292-3e4a-4ca8-9cf7-24f73ea94ed6"
      },
      "source": [
        "a = np.array([1,1,1,1])\n",
        "c = np.diag(a)\n",
        "print(c*2)"
      ],
      "execution_count": 42,
      "outputs": [
        {
          "output_type": "stream",
          "name": "stdout",
          "text": [
            "[[2 0 0 0]\n",
            " [0 2 0 0]\n",
            " [0 0 2 0]\n",
            " [0 0 0 2]]\n"
          ]
        }
      ]
    },
    {
      "cell_type": "markdown",
      "metadata": {
        "id": "m9CfVFiUh1Ku"
      },
      "source": [
        "Question 3. (10 points) Find the cross-product of matrices, A = [2,7,4] and\n",
        "B = [3,9,8]. Show your solutions using Python codes and do not forget to label them on the Text Cell."
      ]
    },
    {
      "cell_type": "code",
      "metadata": {
        "colab": {
          "base_uri": "https://localhost:8080/"
        },
        "id": "SPLKe6Fuh9Dn",
        "outputId": "c9e4a23e-7642-4b07-9411-212252bd7ae5"
      },
      "source": [
        "#Given Matrices A and B\n",
        "\n",
        "A = np.array([2,7,4])\n",
        "B = np.array ([3,9,8])\n",
        "\n",
        "#Compute for the cross product\n",
        "\n",
        "output = np.cross(A,B)\n",
        "print(output)"
      ],
      "execution_count": null,
      "outputs": [
        {
          "output_type": "stream",
          "name": "stdout",
          "text": [
            "[20 -4 -3]\n"
          ]
        }
      ]
    }
  ]
}